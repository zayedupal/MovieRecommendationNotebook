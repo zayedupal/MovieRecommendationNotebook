{
  "nbformat": 4,
  "nbformat_minor": 0,
  "metadata": {
    "colab": {
      "name": "MovieLens_recommendation.ipynb",
      "provenance": [],
      "collapsed_sections": [],
      "authorship_tag": "ABX9TyM3X58eNmLKZt9WHbwLTj9b",
      "include_colab_link": true
    },
    "kernelspec": {
      "name": "python3",
      "display_name": "Python 3"
    }
  },
  "cells": [
    {
      "cell_type": "markdown",
      "metadata": {
        "id": "view-in-github",
        "colab_type": "text"
      },
      "source": [
        "<a href=\"https://colab.research.google.com/github/zayedupal/MovieRecommendationNotebook/blob/master/MovieLens_recommendation.ipynb\" target=\"_parent\"><img src=\"https://colab.research.google.com/assets/colab-badge.svg\" alt=\"Open In Colab\"/></a>"
      ]
    },
    {
      "cell_type": "markdown",
      "metadata": {
        "id": "MtqOQXDC6yT3",
        "colab_type": "text"
      },
      "source": [
        "**Recommendation System 101**\n"
      ]
    },
    {
      "cell_type": "markdown",
      "metadata": {
        "id": "Udg5wOBK648O",
        "colab_type": "text"
      },
      "source": [
        "Used movielens small dataset https://grouplens.org/datasets/movielens/latest/"
      ]
    },
    {
      "cell_type": "code",
      "metadata": {
        "id": "QbyPdHPbT7aF",
        "colab_type": "code",
        "outputId": "a224bfde-2c23-4240-cee8-f7c50c7ca2cf",
        "colab": {
          "base_uri": "https://localhost:8080/",
          "height": 419
        }
      },
      "source": [
        "%matplotlib inline\n",
        "import numpy as np\n",
        "import pandas as pd\n",
        "from sklearn.model_selection import train_test_split\n",
        "from sklearn.preprocessing import LabelEncoder\n",
        "\n",
        "PATH = '/content/'\n",
        "\n",
        "# read all the data\n",
        "ratings = pd.read_csv(PATH + 'ratings.csv')\n",
        "movies = pd.read_csv(PATH + 'movies.csv')\n",
        "tags = pd.read_csv(PATH + 'tags.csv')\n",
        "links = pd.read_csv(PATH + 'links.csv')\n",
        "movies"
      ],
      "execution_count": 1,
      "outputs": [
        {
          "output_type": "execute_result",
          "data": {
            "text/html": [
              "<div>\n",
              "<style scoped>\n",
              "    .dataframe tbody tr th:only-of-type {\n",
              "        vertical-align: middle;\n",
              "    }\n",
              "\n",
              "    .dataframe tbody tr th {\n",
              "        vertical-align: top;\n",
              "    }\n",
              "\n",
              "    .dataframe thead th {\n",
              "        text-align: right;\n",
              "    }\n",
              "</style>\n",
              "<table border=\"1\" class=\"dataframe\">\n",
              "  <thead>\n",
              "    <tr style=\"text-align: right;\">\n",
              "      <th></th>\n",
              "      <th>movieId</th>\n",
              "      <th>title</th>\n",
              "      <th>genres</th>\n",
              "    </tr>\n",
              "  </thead>\n",
              "  <tbody>\n",
              "    <tr>\n",
              "      <th>0</th>\n",
              "      <td>1</td>\n",
              "      <td>Toy Story (1995)</td>\n",
              "      <td>Adventure|Animation|Children|Comedy|Fantasy</td>\n",
              "    </tr>\n",
              "    <tr>\n",
              "      <th>1</th>\n",
              "      <td>2</td>\n",
              "      <td>Jumanji (1995)</td>\n",
              "      <td>Adventure|Children|Fantasy</td>\n",
              "    </tr>\n",
              "    <tr>\n",
              "      <th>2</th>\n",
              "      <td>3</td>\n",
              "      <td>Grumpier Old Men (1995)</td>\n",
              "      <td>Comedy|Romance</td>\n",
              "    </tr>\n",
              "    <tr>\n",
              "      <th>3</th>\n",
              "      <td>4</td>\n",
              "      <td>Waiting to Exhale (1995)</td>\n",
              "      <td>Comedy|Drama|Romance</td>\n",
              "    </tr>\n",
              "    <tr>\n",
              "      <th>4</th>\n",
              "      <td>5</td>\n",
              "      <td>Father of the Bride Part II (1995)</td>\n",
              "      <td>Comedy</td>\n",
              "    </tr>\n",
              "    <tr>\n",
              "      <th>...</th>\n",
              "      <td>...</td>\n",
              "      <td>...</td>\n",
              "      <td>...</td>\n",
              "    </tr>\n",
              "    <tr>\n",
              "      <th>9737</th>\n",
              "      <td>193581</td>\n",
              "      <td>Black Butler: Book of the Atlantic (2017)</td>\n",
              "      <td>Action|Animation|Comedy|Fantasy</td>\n",
              "    </tr>\n",
              "    <tr>\n",
              "      <th>9738</th>\n",
              "      <td>193583</td>\n",
              "      <td>No Game No Life: Zero (2017)</td>\n",
              "      <td>Animation|Comedy|Fantasy</td>\n",
              "    </tr>\n",
              "    <tr>\n",
              "      <th>9739</th>\n",
              "      <td>193585</td>\n",
              "      <td>Flint (2017)</td>\n",
              "      <td>Drama</td>\n",
              "    </tr>\n",
              "    <tr>\n",
              "      <th>9740</th>\n",
              "      <td>193587</td>\n",
              "      <td>Bungo Stray Dogs: Dead Apple (2018)</td>\n",
              "      <td>Action|Animation</td>\n",
              "    </tr>\n",
              "    <tr>\n",
              "      <th>9741</th>\n",
              "      <td>193609</td>\n",
              "      <td>Andrew Dice Clay: Dice Rules (1991)</td>\n",
              "      <td>Comedy</td>\n",
              "    </tr>\n",
              "  </tbody>\n",
              "</table>\n",
              "<p>9742 rows × 3 columns</p>\n",
              "</div>"
            ],
            "text/plain": [
              "      movieId  ...                                       genres\n",
              "0           1  ...  Adventure|Animation|Children|Comedy|Fantasy\n",
              "1           2  ...                   Adventure|Children|Fantasy\n",
              "2           3  ...                               Comedy|Romance\n",
              "3           4  ...                         Comedy|Drama|Romance\n",
              "4           5  ...                                       Comedy\n",
              "...       ...  ...                                          ...\n",
              "9737   193581  ...              Action|Animation|Comedy|Fantasy\n",
              "9738   193583  ...                     Animation|Comedy|Fantasy\n",
              "9739   193585  ...                                        Drama\n",
              "9740   193587  ...                             Action|Animation\n",
              "9741   193609  ...                                       Comedy\n",
              "\n",
              "[9742 rows x 3 columns]"
            ]
          },
          "metadata": {
            "tags": []
          },
          "execution_count": 1
        }
      ]
    },
    {
      "cell_type": "markdown",
      "metadata": {
        "id": "B9wvjkqPy1r7",
        "colab_type": "text"
      },
      "source": [
        "**1. POPULARITY BASED RECOMMENDATION**"
      ]
    },
    {
      "cell_type": "code",
      "metadata": {
        "id": "bxML7eC5USV4",
        "colab_type": "code",
        "colab": {}
      },
      "source": [
        "g = ratings.groupby('userId')['rating'].count()\n",
        "np.unique(g)\n"
      ],
      "execution_count": 0,
      "outputs": []
    },
    {
      "cell_type": "code",
      "metadata": {
        "id": "D_xrXmuGysu9",
        "colab_type": "code",
        "colab": {}
      },
      "source": [
        "g = ratings.groupby('movieId')['rating'].count()\n",
        "np.unique(g)"
      ],
      "execution_count": 0,
      "outputs": []
    },
    {
      "cell_type": "markdown",
      "metadata": {
        "id": "QlfBAfZkmcW2",
        "colab_type": "text"
      },
      "source": [
        "We see that user with minimum given rating is 20,\n",
        "Movie with minimum count of rating is 1."
      ]
    },
    {
      "cell_type": "markdown",
      "metadata": {
        "id": "N_1Lny_ZudvI",
        "colab_type": "text"
      },
      "source": [
        "Now, we'll give score to all the movies. Average rating is not a good score. Because, some movies may get less votes but high rating, which will underestimate movies with lesser rating but higher vote counts. So, we are using IMDB's weighted rating.\n"
      ]
    },
    {
      "cell_type": "markdown",
      "metadata": {
        "id": "HaySyZLQvNtJ",
        "colab_type": "text"
      },
      "source": [
        "\n",
        "\n",
        "```\n",
        "weighted rank (WR) = (v ÷ (v+m)) × R + (m ÷ (v+m)) × C\n",
        "\n",
        " where:\n",
        "  R = average rating for the movie\n",
        "  v = number of votes for the movie\n",
        "  m = minimum votes required to be listed in the Top\n",
        "  C = the mean vote across the whole report\n",
        "```\n",
        "\n",
        "\n",
        "\n",
        "\n"
      ]
    },
    {
      "cell_type": "code",
      "metadata": {
        "id": "jBAR93DuUuZX",
        "colab_type": "code",
        "outputId": "b820ca04-6ade-4e7d-d1ec-4827c0b3770a",
        "colab": {
          "base_uri": "https://localhost:8080/",
          "height": 419
        }
      },
      "source": [
        "movie_rating_mean = ratings.groupby('movieId',as_index=False)['rating'].mean()\n",
        "movie_rating_mean.columns = ['movieId','avg_rating']\n",
        "movie_rating_count = ratings.groupby('movieId',as_index=False)['rating'].count()\n",
        "movie_rating_count.columns = ['movieId','votes']\n",
        "movie_rating_mean_count = movie_rating_mean.merge(movie_rating_count,how='inner',on='movieId')\n",
        "movie_rating_mean_count\n"
      ],
      "execution_count": 0,
      "outputs": [
        {
          "output_type": "execute_result",
          "data": {
            "text/html": [
              "<div>\n",
              "<style scoped>\n",
              "    .dataframe tbody tr th:only-of-type {\n",
              "        vertical-align: middle;\n",
              "    }\n",
              "\n",
              "    .dataframe tbody tr th {\n",
              "        vertical-align: top;\n",
              "    }\n",
              "\n",
              "    .dataframe thead th {\n",
              "        text-align: right;\n",
              "    }\n",
              "</style>\n",
              "<table border=\"1\" class=\"dataframe\">\n",
              "  <thead>\n",
              "    <tr style=\"text-align: right;\">\n",
              "      <th></th>\n",
              "      <th>movieId</th>\n",
              "      <th>avg_rating</th>\n",
              "      <th>votes</th>\n",
              "    </tr>\n",
              "  </thead>\n",
              "  <tbody>\n",
              "    <tr>\n",
              "      <th>0</th>\n",
              "      <td>1</td>\n",
              "      <td>3.920930</td>\n",
              "      <td>215</td>\n",
              "    </tr>\n",
              "    <tr>\n",
              "      <th>1</th>\n",
              "      <td>2</td>\n",
              "      <td>3.431818</td>\n",
              "      <td>110</td>\n",
              "    </tr>\n",
              "    <tr>\n",
              "      <th>2</th>\n",
              "      <td>3</td>\n",
              "      <td>3.259615</td>\n",
              "      <td>52</td>\n",
              "    </tr>\n",
              "    <tr>\n",
              "      <th>3</th>\n",
              "      <td>4</td>\n",
              "      <td>2.357143</td>\n",
              "      <td>7</td>\n",
              "    </tr>\n",
              "    <tr>\n",
              "      <th>4</th>\n",
              "      <td>5</td>\n",
              "      <td>3.071429</td>\n",
              "      <td>49</td>\n",
              "    </tr>\n",
              "    <tr>\n",
              "      <th>...</th>\n",
              "      <td>...</td>\n",
              "      <td>...</td>\n",
              "      <td>...</td>\n",
              "    </tr>\n",
              "    <tr>\n",
              "      <th>9719</th>\n",
              "      <td>193581</td>\n",
              "      <td>4.000000</td>\n",
              "      <td>1</td>\n",
              "    </tr>\n",
              "    <tr>\n",
              "      <th>9720</th>\n",
              "      <td>193583</td>\n",
              "      <td>3.500000</td>\n",
              "      <td>1</td>\n",
              "    </tr>\n",
              "    <tr>\n",
              "      <th>9721</th>\n",
              "      <td>193585</td>\n",
              "      <td>3.500000</td>\n",
              "      <td>1</td>\n",
              "    </tr>\n",
              "    <tr>\n",
              "      <th>9722</th>\n",
              "      <td>193587</td>\n",
              "      <td>3.500000</td>\n",
              "      <td>1</td>\n",
              "    </tr>\n",
              "    <tr>\n",
              "      <th>9723</th>\n",
              "      <td>193609</td>\n",
              "      <td>4.000000</td>\n",
              "      <td>1</td>\n",
              "    </tr>\n",
              "  </tbody>\n",
              "</table>\n",
              "<p>9724 rows × 3 columns</p>\n",
              "</div>"
            ],
            "text/plain": [
              "      movieId  avg_rating  votes\n",
              "0           1    3.920930    215\n",
              "1           2    3.431818    110\n",
              "2           3    3.259615     52\n",
              "3           4    2.357143      7\n",
              "4           5    3.071429     49\n",
              "...       ...         ...    ...\n",
              "9719   193581    4.000000      1\n",
              "9720   193583    3.500000      1\n",
              "9721   193585    3.500000      1\n",
              "9722   193587    3.500000      1\n",
              "9723   193609    4.000000      1\n",
              "\n",
              "[9724 rows x 3 columns]"
            ]
          },
          "metadata": {
            "tags": []
          },
          "execution_count": 19
        }
      ]
    },
    {
      "cell_type": "code",
      "metadata": {
        "id": "Hq8yZJGOrY1C",
        "colab_type": "code",
        "colab": {}
      },
      "source": [
        "C = movie_rating_mean_count['avg_rating'].mean()\n",
        "m = movie_rating_mean_count['votes'].quantile(0.9)\n",
        "def weighted_rating(x, m=1, C=1):\n",
        "    v = x['votes']\n",
        "    R = x['avg_rating']\n",
        "    # Calculation based on the IMDB formula\n",
        "    return (v/(v+m) * R) + (m/(m+v) * C)"
      ],
      "execution_count": 0,
      "outputs": []
    },
    {
      "cell_type": "code",
      "metadata": {
        "id": "KHgkICmitTz-",
        "colab_type": "code",
        "outputId": "f2fbf695-9067-4d50-8f37-6ac5e592a574",
        "colab": {
          "base_uri": "https://localhost:8080/",
          "height": 521
        }
      },
      "source": [
        "movie_score = movie_rating_mean_count[movie_rating_mean_count['votes']>=m] \n",
        "movie_score['score'] = movie_score.apply(weighted_rating,axis=1)\n",
        "movie_score = movie_score.sort_values('score',ascending=False)\n",
        "movie_score"
      ],
      "execution_count": 0,
      "outputs": [
        {
          "output_type": "stream",
          "text": [
            "/usr/local/lib/python3.6/dist-packages/ipykernel_launcher.py:2: SettingWithCopyWarning: \n",
            "A value is trying to be set on a copy of a slice from a DataFrame.\n",
            "Try using .loc[row_indexer,col_indexer] = value instead\n",
            "\n",
            "See the caveats in the documentation: http://pandas.pydata.org/pandas-docs/stable/user_guide/indexing.html#returning-a-view-versus-a-copy\n",
            "  \n"
          ],
          "name": "stderr"
        },
        {
          "output_type": "execute_result",
          "data": {
            "text/html": [
              "<div>\n",
              "<style scoped>\n",
              "    .dataframe tbody tr th:only-of-type {\n",
              "        vertical-align: middle;\n",
              "    }\n",
              "\n",
              "    .dataframe tbody tr th {\n",
              "        vertical-align: top;\n",
              "    }\n",
              "\n",
              "    .dataframe thead th {\n",
              "        text-align: right;\n",
              "    }\n",
              "</style>\n",
              "<table border=\"1\" class=\"dataframe\">\n",
              "  <thead>\n",
              "    <tr style=\"text-align: right;\">\n",
              "      <th></th>\n",
              "      <th>movieId</th>\n",
              "      <th>avg_rating</th>\n",
              "      <th>votes</th>\n",
              "      <th>score</th>\n",
              "    </tr>\n",
              "  </thead>\n",
              "  <tbody>\n",
              "    <tr>\n",
              "      <th>277</th>\n",
              "      <td>318</td>\n",
              "      <td>4.429022</td>\n",
              "      <td>317</td>\n",
              "      <td>4.418239</td>\n",
              "    </tr>\n",
              "    <tr>\n",
              "      <th>659</th>\n",
              "      <td>858</td>\n",
              "      <td>4.289062</td>\n",
              "      <td>192</td>\n",
              "      <td>4.272021</td>\n",
              "    </tr>\n",
              "    <tr>\n",
              "      <th>2224</th>\n",
              "      <td>2959</td>\n",
              "      <td>4.272936</td>\n",
              "      <td>218</td>\n",
              "      <td>4.257991</td>\n",
              "    </tr>\n",
              "    <tr>\n",
              "      <th>602</th>\n",
              "      <td>750</td>\n",
              "      <td>4.268041</td>\n",
              "      <td>97</td>\n",
              "      <td>4.234694</td>\n",
              "    </tr>\n",
              "    <tr>\n",
              "      <th>921</th>\n",
              "      <td>1221</td>\n",
              "      <td>4.259690</td>\n",
              "      <td>129</td>\n",
              "      <td>4.234615</td>\n",
              "    </tr>\n",
              "    <tr>\n",
              "      <th>...</th>\n",
              "      <td>...</td>\n",
              "      <td>...</td>\n",
              "      <td>...</td>\n",
              "      <td>...</td>\n",
              "    </tr>\n",
              "    <tr>\n",
              "      <th>1173</th>\n",
              "      <td>1562</td>\n",
              "      <td>2.214286</td>\n",
              "      <td>42</td>\n",
              "      <td>2.186047</td>\n",
              "    </tr>\n",
              "    <tr>\n",
              "      <th>2028</th>\n",
              "      <td>2701</td>\n",
              "      <td>2.207547</td>\n",
              "      <td>53</td>\n",
              "      <td>2.185185</td>\n",
              "    </tr>\n",
              "    <tr>\n",
              "      <th>1234</th>\n",
              "      <td>1644</td>\n",
              "      <td>2.109375</td>\n",
              "      <td>32</td>\n",
              "      <td>2.075758</td>\n",
              "    </tr>\n",
              "    <tr>\n",
              "      <th>1372</th>\n",
              "      <td>1882</td>\n",
              "      <td>1.954545</td>\n",
              "      <td>33</td>\n",
              "      <td>1.926471</td>\n",
              "    </tr>\n",
              "    <tr>\n",
              "      <th>1144</th>\n",
              "      <td>1499</td>\n",
              "      <td>1.925926</td>\n",
              "      <td>27</td>\n",
              "      <td>1.892857</td>\n",
              "    </tr>\n",
              "  </tbody>\n",
              "</table>\n",
              "<p>976 rows × 4 columns</p>\n",
              "</div>"
            ],
            "text/plain": [
              "      movieId  avg_rating  votes     score\n",
              "277       318    4.429022    317  4.418239\n",
              "659       858    4.289062    192  4.272021\n",
              "2224     2959    4.272936    218  4.257991\n",
              "602       750    4.268041     97  4.234694\n",
              "921      1221    4.259690    129  4.234615\n",
              "...       ...         ...    ...       ...\n",
              "1173     1562    2.214286     42  2.186047\n",
              "2028     2701    2.207547     53  2.185185\n",
              "1234     1644    2.109375     32  2.075758\n",
              "1372     1882    1.954545     33  1.926471\n",
              "1144     1499    1.925926     27  1.892857\n",
              "\n",
              "[976 rows x 4 columns]"
            ]
          },
          "metadata": {
            "tags": []
          },
          "execution_count": 39
        }
      ]
    },
    {
      "cell_type": "markdown",
      "metadata": {
        "id": "1JrD9uPOvqfI",
        "colab_type": "text"
      },
      "source": [
        "Return the top 10 movies according to the score"
      ]
    },
    {
      "cell_type": "code",
      "metadata": {
        "id": "aVQj8sv3U6jn",
        "colab_type": "code",
        "outputId": "e79c3b12-5dbd-408d-901e-77f5950c941b",
        "colab": {
          "base_uri": "https://localhost:8080/",
          "height": 359
        }
      },
      "source": [
        "movie_top_ten = movie_score.head(10)\n",
        "movie_top_ten = movies[movies['movieId'].isin(movie_top_ten['movieId'])]\n",
        "# movie_top_ten\n",
        "movie_top_ten"
      ],
      "execution_count": 0,
      "outputs": [
        {
          "output_type": "execute_result",
          "data": {
            "text/html": [
              "<div>\n",
              "<style scoped>\n",
              "    .dataframe tbody tr th:only-of-type {\n",
              "        vertical-align: middle;\n",
              "    }\n",
              "\n",
              "    .dataframe tbody tr th {\n",
              "        vertical-align: top;\n",
              "    }\n",
              "\n",
              "    .dataframe thead th {\n",
              "        text-align: right;\n",
              "    }\n",
              "</style>\n",
              "<table border=\"1\" class=\"dataframe\">\n",
              "  <thead>\n",
              "    <tr style=\"text-align: right;\">\n",
              "      <th></th>\n",
              "      <th>movieId</th>\n",
              "      <th>title</th>\n",
              "      <th>genres</th>\n",
              "    </tr>\n",
              "  </thead>\n",
              "  <tbody>\n",
              "    <tr>\n",
              "      <th>46</th>\n",
              "      <td>50</td>\n",
              "      <td>Usual Suspects, The (1995)</td>\n",
              "      <td>Crime|Mystery|Thriller</td>\n",
              "    </tr>\n",
              "    <tr>\n",
              "      <th>277</th>\n",
              "      <td>318</td>\n",
              "      <td>Shawshank Redemption, The (1994)</td>\n",
              "      <td>Crime|Drama</td>\n",
              "    </tr>\n",
              "    <tr>\n",
              "      <th>602</th>\n",
              "      <td>750</td>\n",
              "      <td>Dr. Strangelove or: How I Learned to Stop Worr...</td>\n",
              "      <td>Comedy|War</td>\n",
              "    </tr>\n",
              "    <tr>\n",
              "      <th>659</th>\n",
              "      <td>858</td>\n",
              "      <td>Godfather, The (1972)</td>\n",
              "      <td>Crime|Drama</td>\n",
              "    </tr>\n",
              "    <tr>\n",
              "      <th>686</th>\n",
              "      <td>904</td>\n",
              "      <td>Rear Window (1954)</td>\n",
              "      <td>Mystery|Thriller</td>\n",
              "    </tr>\n",
              "    <tr>\n",
              "      <th>906</th>\n",
              "      <td>1204</td>\n",
              "      <td>Lawrence of Arabia (1962)</td>\n",
              "      <td>Adventure|Drama|War</td>\n",
              "    </tr>\n",
              "    <tr>\n",
              "      <th>914</th>\n",
              "      <td>1213</td>\n",
              "      <td>Goodfellas (1990)</td>\n",
              "      <td>Crime|Drama</td>\n",
              "    </tr>\n",
              "    <tr>\n",
              "      <th>922</th>\n",
              "      <td>1221</td>\n",
              "      <td>Godfather: Part II, The (1974)</td>\n",
              "      <td>Crime|Drama</td>\n",
              "    </tr>\n",
              "    <tr>\n",
              "      <th>2226</th>\n",
              "      <td>2959</td>\n",
              "      <td>Fight Club (1999)</td>\n",
              "      <td>Action|Crime|Drama|Thriller</td>\n",
              "    </tr>\n",
              "    <tr>\n",
              "      <th>6315</th>\n",
              "      <td>48516</td>\n",
              "      <td>Departed, The (2006)</td>\n",
              "      <td>Crime|Drama|Thriller</td>\n",
              "    </tr>\n",
              "  </tbody>\n",
              "</table>\n",
              "</div>"
            ],
            "text/plain": [
              "      movieId  ...                       genres\n",
              "46         50  ...       Crime|Mystery|Thriller\n",
              "277       318  ...                  Crime|Drama\n",
              "602       750  ...                   Comedy|War\n",
              "659       858  ...                  Crime|Drama\n",
              "686       904  ...             Mystery|Thriller\n",
              "906      1204  ...          Adventure|Drama|War\n",
              "914      1213  ...                  Crime|Drama\n",
              "922      1221  ...                  Crime|Drama\n",
              "2226     2959  ...  Action|Crime|Drama|Thriller\n",
              "6315    48516  ...         Crime|Drama|Thriller\n",
              "\n",
              "[10 rows x 3 columns]"
            ]
          },
          "metadata": {
            "tags": []
          },
          "execution_count": 44
        }
      ]
    },
    {
      "cell_type": "markdown",
      "metadata": {
        "id": "ub5mRtpYmxiN",
        "colab_type": "text"
      },
      "source": [
        "**2. CONTENT BASED RECOMMENDER**"
      ]
    },
    {
      "cell_type": "markdown",
      "metadata": {
        "id": "Qf4rUAhwzz-d",
        "colab_type": "text"
      },
      "source": [
        "In short, we'll recommend content based similar movies. For this dataset, the content can be described with the **genres** and **tags**"
      ]
    },
    {
      "cell_type": "markdown",
      "metadata": {
        "id": "KZUydqnJCCpq",
        "colab_type": "text"
      },
      "source": [
        "We are combining these two in a new dataframe name **movie_metadata**"
      ]
    },
    {
      "cell_type": "code",
      "metadata": {
        "id": "EK0Y0D3g5H5A",
        "colab_type": "code",
        "outputId": "709d15a6-e7b6-4de5-a78c-f53bb39039f3",
        "colab": {
          "base_uri": "https://localhost:8080/",
          "height": 419
        }
      },
      "source": [
        "movie_tags = tags.groupby('movieId')['tag'].apply(list).reset_index(name='tag')\n",
        "movie_tags['tag'] = movie_tags['tag'].apply(lambda x: ' '.join(x))\n",
        "movie_genres_tags = movies.merge(movie_tags,how='inner',on='movieId')\n",
        "movie_metadata = movie_genres_tags\n",
        "movie_metadata['genres'] = movie_metadata['genres'].apply(lambda x: x.replace('|',' '))\n",
        "movie_metadata['meta'] = movie_metadata['genres']+movie_metadata['tag'] \n",
        "movie_metadata= movie_metadata.drop(['genres','tag'],1)\n",
        "# movie_metadata['meta'] = movie_metadata['meta']\n",
        "movie_metadata"
      ],
      "execution_count": 2,
      "outputs": [
        {
          "output_type": "execute_result",
          "data": {
            "text/html": [
              "<div>\n",
              "<style scoped>\n",
              "    .dataframe tbody tr th:only-of-type {\n",
              "        vertical-align: middle;\n",
              "    }\n",
              "\n",
              "    .dataframe tbody tr th {\n",
              "        vertical-align: top;\n",
              "    }\n",
              "\n",
              "    .dataframe thead th {\n",
              "        text-align: right;\n",
              "    }\n",
              "</style>\n",
              "<table border=\"1\" class=\"dataframe\">\n",
              "  <thead>\n",
              "    <tr style=\"text-align: right;\">\n",
              "      <th></th>\n",
              "      <th>movieId</th>\n",
              "      <th>title</th>\n",
              "      <th>meta</th>\n",
              "    </tr>\n",
              "  </thead>\n",
              "  <tbody>\n",
              "    <tr>\n",
              "      <th>0</th>\n",
              "      <td>1</td>\n",
              "      <td>Toy Story (1995)</td>\n",
              "      <td>Adventure Animation Children Comedy Fantasypix...</td>\n",
              "    </tr>\n",
              "    <tr>\n",
              "      <th>1</th>\n",
              "      <td>2</td>\n",
              "      <td>Jumanji (1995)</td>\n",
              "      <td>Adventure Children Fantasyfantasy magic board ...</td>\n",
              "    </tr>\n",
              "    <tr>\n",
              "      <th>2</th>\n",
              "      <td>3</td>\n",
              "      <td>Grumpier Old Men (1995)</td>\n",
              "      <td>Comedy Romancemoldy old</td>\n",
              "    </tr>\n",
              "    <tr>\n",
              "      <th>3</th>\n",
              "      <td>5</td>\n",
              "      <td>Father of the Bride Part II (1995)</td>\n",
              "      <td>Comedypregnancy remake</td>\n",
              "    </tr>\n",
              "    <tr>\n",
              "      <th>4</th>\n",
              "      <td>7</td>\n",
              "      <td>Sabrina (1995)</td>\n",
              "      <td>Comedy Romanceremake</td>\n",
              "    </tr>\n",
              "    <tr>\n",
              "      <th>...</th>\n",
              "      <td>...</td>\n",
              "      <td>...</td>\n",
              "      <td>...</td>\n",
              "    </tr>\n",
              "    <tr>\n",
              "      <th>1567</th>\n",
              "      <td>183611</td>\n",
              "      <td>Game Night (2018)</td>\n",
              "      <td>Action Comedy Crime HorrorComedy funny Rachel ...</td>\n",
              "    </tr>\n",
              "    <tr>\n",
              "      <th>1568</th>\n",
              "      <td>184471</td>\n",
              "      <td>Tomb Raider (2018)</td>\n",
              "      <td>Action Adventure Fantasyadventure Alicia Vikan...</td>\n",
              "    </tr>\n",
              "    <tr>\n",
              "      <th>1569</th>\n",
              "      <td>187593</td>\n",
              "      <td>Deadpool 2 (2018)</td>\n",
              "      <td>Action Comedy Sci-FiJosh Brolin Ryan Reynolds ...</td>\n",
              "    </tr>\n",
              "    <tr>\n",
              "      <th>1570</th>\n",
              "      <td>187595</td>\n",
              "      <td>Solo: A Star Wars Story (2018)</td>\n",
              "      <td>Action Adventure Children Sci-FiEmilia Clarke ...</td>\n",
              "    </tr>\n",
              "    <tr>\n",
              "      <th>1571</th>\n",
              "      <td>193565</td>\n",
              "      <td>Gintama: The Movie (2010)</td>\n",
              "      <td>Action Animation Comedy Sci-Fianime comedy gin...</td>\n",
              "    </tr>\n",
              "  </tbody>\n",
              "</table>\n",
              "<p>1572 rows × 3 columns</p>\n",
              "</div>"
            ],
            "text/plain": [
              "      movieId  ...                                               meta\n",
              "0           1  ...  Adventure Animation Children Comedy Fantasypix...\n",
              "1           2  ...  Adventure Children Fantasyfantasy magic board ...\n",
              "2           3  ...                            Comedy Romancemoldy old\n",
              "3           5  ...                             Comedypregnancy remake\n",
              "4           7  ...                               Comedy Romanceremake\n",
              "...       ...  ...                                                ...\n",
              "1567   183611  ...  Action Comedy Crime HorrorComedy funny Rachel ...\n",
              "1568   184471  ...  Action Adventure Fantasyadventure Alicia Vikan...\n",
              "1569   187593  ...  Action Comedy Sci-FiJosh Brolin Ryan Reynolds ...\n",
              "1570   187595  ...  Action Adventure Children Sci-FiEmilia Clarke ...\n",
              "1571   193565  ...  Action Animation Comedy Sci-Fianime comedy gin...\n",
              "\n",
              "[1572 rows x 3 columns]"
            ]
          },
          "metadata": {
            "tags": []
          },
          "execution_count": 2
        }
      ]
    },
    {
      "cell_type": "markdown",
      "metadata": {
        "id": "jJXys4l189om",
        "colab_type": "text"
      },
      "source": [
        "Now use count vectorizer to vectorize metadata texts movie wise"
      ]
    },
    {
      "cell_type": "code",
      "metadata": {
        "id": "cCttYnpJl_To",
        "colab_type": "code",
        "outputId": "000860b8-46c5-4450-e11d-fc315fc0d87b",
        "colab": {
          "base_uri": "https://localhost:8080/",
          "height": 34
        }
      },
      "source": [
        "\n",
        "from sklearn.feature_extraction.text import CountVectorizer\n",
        "\n",
        "count_vectorizer = CountVectorizer(stop_words='english')\n",
        "\n",
        "#Replace NaN with an empty string\n",
        "movie_metadata['meta'] = movie_metadata['meta'].fillna('')\n",
        "\n",
        "#Construct the required CountVectorizer matrix by fitting and transforming the data\n",
        "count_matrix  = count_vectorizer.fit_transform(movie_metadata['meta'])\n",
        "\n",
        "#Output the shape of count_matrix\n",
        "count_matrix .shape\n"
      ],
      "execution_count": 3,
      "outputs": [
        {
          "output_type": "execute_result",
          "data": {
            "text/plain": [
              "(1572, 2375)"
            ]
          },
          "metadata": {
            "tags": []
          },
          "execution_count": 3
        }
      ]
    },
    {
      "cell_type": "markdown",
      "metadata": {
        "id": "uaUhDEuLCh3p",
        "colab_type": "text"
      },
      "source": [
        "Now let's find similarity between each pair of movies. We'll use sklearn's **linear_kernel** for this. So, each of the row, has values of similarities with every other movies."
      ]
    },
    {
      "cell_type": "code",
      "metadata": {
        "id": "O41n1J8eCtr4",
        "colab_type": "code",
        "outputId": "1fe23596-8858-4ebf-e45f-c7949e44359d",
        "colab": {
          "base_uri": "https://localhost:8080/",
          "height": 34
        }
      },
      "source": [
        "from sklearn.metrics.pairwise import cosine_similarity\n",
        "\n",
        "# Compute the cosine similarity matrix\n",
        "cosine_sim = cosine_similarity(count_matrix, count_matrix)\n",
        "cosine_sim.shape"
      ],
      "execution_count": 4,
      "outputs": [
        {
          "output_type": "execute_result",
          "data": {
            "text/plain": [
              "(1572, 1572)"
            ]
          },
          "metadata": {
            "tags": []
          },
          "execution_count": 4
        }
      ]
    },
    {
      "cell_type": "code",
      "metadata": {
        "id": "lV6QvLDWD_gQ",
        "colab_type": "code",
        "outputId": "b941a662-4833-44cc-d8f2-6b2b005e7725",
        "colab": {
          "base_uri": "https://localhost:8080/",
          "height": 238
        }
      },
      "source": [
        "#Construct a reverse map of indices and movie ids\n",
        "indices = pd.Series(movie_metadata.index, index=movie_metadata['title'])\n",
        "indices"
      ],
      "execution_count": 5,
      "outputs": [
        {
          "output_type": "execute_result",
          "data": {
            "text/plain": [
              "title\n",
              "Toy Story (1995)                         0\n",
              "Jumanji (1995)                           1\n",
              "Grumpier Old Men (1995)                  2\n",
              "Father of the Bride Part II (1995)       3\n",
              "Sabrina (1995)                           4\n",
              "                                      ... \n",
              "Game Night (2018)                     1567\n",
              "Tomb Raider (2018)                    1568\n",
              "Deadpool 2 (2018)                     1569\n",
              "Solo: A Star Wars Story (2018)        1570\n",
              "Gintama: The Movie (2010)             1571\n",
              "Length: 1572, dtype: int64"
            ]
          },
          "metadata": {
            "tags": []
          },
          "execution_count": 5
        }
      ]
    },
    {
      "cell_type": "markdown",
      "metadata": {
        "id": "OgkAOAJ9HiVX",
        "colab_type": "text"
      },
      "source": [
        "Get Top 10 recommendations according to similarity"
      ]
    },
    {
      "cell_type": "code",
      "metadata": {
        "id": "4leZNJAjCz4I",
        "colab_type": "code",
        "colab": {}
      },
      "source": [
        "# Function that takes in movie title as input and outputs most similar movies\n",
        "def get_recommendations(title,movie_metadf,movies_df):\n",
        "    # title = movie_df[movie_df['movieId']==movie_id]['title'].values[0]\n",
        "    print('you want recommendation for: ', title)\n",
        "    # Get the index of the movie that matches the title\n",
        "    idx = indices[title]\n",
        "    # print(idx)\n",
        "    # Get the pairwsie similarity scores of all movies with that movie\n",
        "    sim_scores = list(enumerate(cosine_sim[idx]))\n",
        "\n",
        "    # Sort the movies based on the similarity scores\n",
        "    sim_scores = sorted(sim_scores, key=lambda x: x[1], reverse=True)\n",
        "    # print(sim_scores)\n",
        "    # Get the scores of the 10 most similar movies\n",
        "    sim_scores = sim_scores[1:11]\n",
        "    # print(sim_scores)\n",
        "\n",
        "    # Get the movie indices\n",
        "    movie_indices = [i[0] for i in sim_scores]\n",
        "    top_movie_ids = movie_metadf['movieId'].iloc[movie_indices].reset_index()\n",
        "    \n",
        "    return movie_metadata['title'].iloc[movie_indices]\n",
        "    # Return the top 10 most similar movies\n",
        "    # return top_movies"
      ],
      "execution_count": 0,
      "outputs": []
    },
    {
      "cell_type": "code",
      "metadata": {
        "id": "P67sFDzBDZbJ",
        "colab_type": "code",
        "outputId": "3fcfbbe4-8c39-4a6f-d739-403dbedabd0b",
        "colab": {
          "base_uri": "https://localhost:8080/",
          "height": 221
        }
      },
      "source": [
        "get_recommendations('Batman Returns (1992)',movie_metadata,movies)"
      ],
      "execution_count": 7,
      "outputs": [
        {
          "output_type": "stream",
          "text": [
            "you want recommendation for:  Batman Returns (1992)\n"
          ],
          "name": "stdout"
        },
        {
          "output_type": "execute_result",
          "data": {
            "text/plain": [
              "43                         Batman Forever (1995)\n",
              "113                   In the Line of Fire (1993)\n",
              "360    Butch Cassidy and the Sundance Kid (1969)\n",
              "383                                  Jaws (1975)\n",
              "384                              Jaws 3-D (1983)\n",
              "411                             G.I. Jane (1997)\n",
              "412                         Air Force One (1997)\n",
              "540                            Siege, The (1998)\n",
              "553                             Rocky III (1982)\n",
              "554                              Rocky IV (1985)\n",
              "Name: title, dtype: object"
            ]
          },
          "metadata": {
            "tags": []
          },
          "execution_count": 7
        }
      ]
    },
    {
      "cell_type": "markdown",
      "metadata": {
        "id": "2dYXyBUQNDim",
        "colab_type": "text"
      },
      "source": [
        "**3. COLLABORATIVE FILTERING**"
      ]
    },
    {
      "cell_type": "markdown",
      "metadata": {
        "id": "Jub3sIw6P-7v",
        "colab_type": "text"
      },
      "source": [
        "**a. Single value decomposition(SVD)**"
      ]
    },
    {
      "cell_type": "code",
      "metadata": {
        "id": "g-B7ZZ-OQTBB",
        "colab_type": "code",
        "outputId": "cefcd853-516f-4eea-c262-ca4c0830513c",
        "colab": {
          "base_uri": "https://localhost:8080/",
          "height": 309
        }
      },
      "source": [
        "pip install surprise"
      ],
      "execution_count": 8,
      "outputs": [
        {
          "output_type": "stream",
          "text": [
            "Collecting surprise\n",
            "  Downloading https://files.pythonhosted.org/packages/61/de/e5cba8682201fcf9c3719a6fdda95693468ed061945493dea2dd37c5618b/surprise-0.1-py2.py3-none-any.whl\n",
            "Collecting scikit-surprise\n",
            "\u001b[?25l  Downloading https://files.pythonhosted.org/packages/f5/da/b5700d96495fb4f092be497f02492768a3d96a3f4fa2ae7dea46d4081cfa/scikit-surprise-1.1.0.tar.gz (6.4MB)\n",
            "\u001b[K     |████████████████████████████████| 6.5MB 2.9MB/s \n",
            "\u001b[?25hRequirement already satisfied: joblib>=0.11 in /usr/local/lib/python3.6/dist-packages (from scikit-surprise->surprise) (0.14.1)\n",
            "Requirement already satisfied: numpy>=1.11.2 in /usr/local/lib/python3.6/dist-packages (from scikit-surprise->surprise) (1.17.5)\n",
            "Requirement already satisfied: scipy>=1.0.0 in /usr/local/lib/python3.6/dist-packages (from scikit-surprise->surprise) (1.4.1)\n",
            "Requirement already satisfied: six>=1.10.0 in /usr/local/lib/python3.6/dist-packages (from scikit-surprise->surprise) (1.12.0)\n",
            "Building wheels for collected packages: scikit-surprise\n",
            "  Building wheel for scikit-surprise (setup.py) ... \u001b[?25l\u001b[?25hdone\n",
            "  Created wheel for scikit-surprise: filename=scikit_surprise-1.1.0-cp36-cp36m-linux_x86_64.whl size=1678243 sha256=90308b7d2d648731d12ca9fecab4310bf1e79a376afd968d9ef320298f2cd513\n",
            "  Stored in directory: /root/.cache/pip/wheels/cc/fa/8c/16c93fccce688ae1bde7d979ff102f7bee980d9cfeb8641bcf\n",
            "Successfully built scikit-surprise\n",
            "Installing collected packages: scikit-surprise, surprise\n",
            "Successfully installed scikit-surprise-1.1.0 surprise-0.1\n"
          ],
          "name": "stdout"
        }
      ]
    },
    {
      "cell_type": "code",
      "metadata": {
        "id": "fvaGKPPNNJGJ",
        "colab_type": "code",
        "outputId": "3a9d857c-3088-4936-d5c4-3b51ffe07b26",
        "colab": {
          "base_uri": "https://localhost:8080/",
          "height": 204
        }
      },
      "source": [
        "from surprise import Reader, Dataset, SVD, model_selection\n",
        "reader = Reader()\n",
        "ratings.head()"
      ],
      "execution_count": 9,
      "outputs": [
        {
          "output_type": "execute_result",
          "data": {
            "text/html": [
              "<div>\n",
              "<style scoped>\n",
              "    .dataframe tbody tr th:only-of-type {\n",
              "        vertical-align: middle;\n",
              "    }\n",
              "\n",
              "    .dataframe tbody tr th {\n",
              "        vertical-align: top;\n",
              "    }\n",
              "\n",
              "    .dataframe thead th {\n",
              "        text-align: right;\n",
              "    }\n",
              "</style>\n",
              "<table border=\"1\" class=\"dataframe\">\n",
              "  <thead>\n",
              "    <tr style=\"text-align: right;\">\n",
              "      <th></th>\n",
              "      <th>userId</th>\n",
              "      <th>movieId</th>\n",
              "      <th>rating</th>\n",
              "      <th>timestamp</th>\n",
              "    </tr>\n",
              "  </thead>\n",
              "  <tbody>\n",
              "    <tr>\n",
              "      <th>0</th>\n",
              "      <td>1</td>\n",
              "      <td>1</td>\n",
              "      <td>4.0</td>\n",
              "      <td>964982703</td>\n",
              "    </tr>\n",
              "    <tr>\n",
              "      <th>1</th>\n",
              "      <td>1</td>\n",
              "      <td>3</td>\n",
              "      <td>4.0</td>\n",
              "      <td>964981247</td>\n",
              "    </tr>\n",
              "    <tr>\n",
              "      <th>2</th>\n",
              "      <td>1</td>\n",
              "      <td>6</td>\n",
              "      <td>4.0</td>\n",
              "      <td>964982224</td>\n",
              "    </tr>\n",
              "    <tr>\n",
              "      <th>3</th>\n",
              "      <td>1</td>\n",
              "      <td>47</td>\n",
              "      <td>5.0</td>\n",
              "      <td>964983815</td>\n",
              "    </tr>\n",
              "    <tr>\n",
              "      <th>4</th>\n",
              "      <td>1</td>\n",
              "      <td>50</td>\n",
              "      <td>5.0</td>\n",
              "      <td>964982931</td>\n",
              "    </tr>\n",
              "  </tbody>\n",
              "</table>\n",
              "</div>"
            ],
            "text/plain": [
              "   userId  movieId  rating  timestamp\n",
              "0       1        1     4.0  964982703\n",
              "1       1        3     4.0  964981247\n",
              "2       1        6     4.0  964982224\n",
              "3       1       47     5.0  964983815\n",
              "4       1       50     5.0  964982931"
            ]
          },
          "metadata": {
            "tags": []
          },
          "execution_count": 9
        }
      ]
    },
    {
      "cell_type": "code",
      "metadata": {
        "id": "j3GC5-9UWKFt",
        "colab_type": "code",
        "colab": {}
      },
      "source": [
        "# First train an SVD algorithm on the movielens dataset.\n",
        "data = Dataset.load_from_df(ratings[['userId', 'movieId', 'rating']], reader)\n",
        "trainset = data.build_full_trainset()\n",
        "algo = SVD()"
      ],
      "execution_count": 0,
      "outputs": []
    },
    {
      "cell_type": "code",
      "metadata": {
        "id": "T4-dzmBNWdBP",
        "colab_type": "code",
        "outputId": "9fb77348-fa16-48ff-e7a8-103293970a2e",
        "colab": {
          "base_uri": "https://localhost:8080/",
          "height": 221
        }
      },
      "source": [
        "model_selection.cross_validate(algo,data,measures=['RMSE','MAE'])"
      ],
      "execution_count": 11,
      "outputs": [
        {
          "output_type": "execute_result",
          "data": {
            "text/plain": [
              "{'fit_time': (5.6546220779418945,\n",
              "  5.561483383178711,\n",
              "  5.604272127151489,\n",
              "  5.5944318771362305,\n",
              "  5.6892616748809814),\n",
              " 'test_mae': array([0.67535647, 0.66798684, 0.67049132, 0.67187647, 0.6698693 ]),\n",
              " 'test_rmse': array([0.88201859, 0.86720441, 0.87487   , 0.87295085, 0.87024481]),\n",
              " 'test_time': (0.30565428733825684,\n",
              "  0.14845848083496094,\n",
              "  0.28922080993652344,\n",
              "  0.16475534439086914,\n",
              "  0.30599284172058105)}"
            ]
          },
          "metadata": {
            "tags": []
          },
          "execution_count": 11
        }
      ]
    },
    {
      "cell_type": "code",
      "metadata": {
        "id": "-VH4gwCBV6yE",
        "colab_type": "code",
        "colab": {}
      },
      "source": [
        "# taken from surprise docs\n",
        "import collections\n",
        "def get_top_n(predictions, n=10):\n",
        "    '''Return the top-N recommendation for each user from a set of predictions.\n",
        "\n",
        "    Args:\n",
        "        predictions(list of Prediction objects): The list of predictions, as\n",
        "            returned by the test method of an algorithm.\n",
        "        n(int): The number of recommendation to output for each user. Default\n",
        "            is 10.\n",
        "\n",
        "    Returns:\n",
        "    A dict where keys are user (raw) ids and values are lists of tuples:\n",
        "        [(raw item id, rating estimation), ...] of size n.\n",
        "    '''\n",
        "\n",
        "    # First map the predictions to each user.\n",
        "    top_n = collections.defaultdict(list)\n",
        "    for uid, iid, true_r, est, _ in predictions:\n",
        "        top_n[uid].append((iid, est))\n",
        "\n",
        "    # Then sort the predictions for each user and retrieve the k highest ones.\n",
        "    for uid, user_ratings in top_n.items():\n",
        "        user_ratings.sort(key=lambda x: x[1], reverse=True)\n",
        "        top_n[uid] = user_ratings[:n]\n",
        "\n",
        "    return top_n"
      ],
      "execution_count": 0,
      "outputs": []
    },
    {
      "cell_type": "code",
      "metadata": {
        "id": "mkHcFo4QWu93",
        "colab_type": "code",
        "colab": {}
      },
      "source": [
        "algo.fit(trainset)\n",
        "\n",
        "# Than predict ratings for all pairs (u, i) that are NOT in the training set.\n",
        "testset = trainset.build_anti_testset()\n",
        "predictions = algo.test(testset)\n",
        "# predictions\n",
        "top_n = get_top_n(predictions, n=10)\n",
        "\n"
      ],
      "execution_count": 0,
      "outputs": []
    },
    {
      "cell_type": "code",
      "metadata": {
        "id": "mpiM-19pW7I0",
        "colab_type": "code",
        "outputId": "658d5edc-f4fe-44b8-8be0-034c1a10b20c",
        "colab": {
          "base_uri": "https://localhost:8080/",
          "height": 187
        }
      },
      "source": [
        "print_count = 10\n",
        "cur_p_count = 0\n",
        "# Print the recommended items for each user\n",
        "for uid, user_ratings in top_n.items():\n",
        "    print(uid, [iid for (iid, _) in user_ratings])\n",
        "    cur_p_count+=1\n",
        "    if cur_p_count>=print_count:\n",
        "      break"
      ],
      "execution_count": 14,
      "outputs": [
        {
          "output_type": "stream",
          "text": [
            "1 [318, 720, 914, 1272, 904, 912, 1250, 750, 4993, 5618]\n",
            "2 [2959, 4973, 1213, 356, 750, 1252, 50, 2329, 858, 1267]\n",
            "3 [1204, 112852, 1104, 3451, 28, 293, 1148, 177593, 171763, 2580]\n",
            "4 [741, 1178, 7153, 1272, 58559, 318, 1673, 3468, 2788, 1172]\n",
            "5 [1262, 1228, 904, 3037, 908, 1233, 2788, 33166, 1136, 1673]\n",
            "6 [158966, 3451, 1237, 1704, 1276, 2248, 8368, 48516, 1104, 954]\n",
            "7 [1198, 1262, 1197, 7090, 3681, 44555, 89745, 2997, 1204, 1223]\n",
            "8 [2959, 4973, 1104, 2324, 1089, 1248, 1199, 1204, 912, 177593]\n",
            "9 [2571, 356, 593, 1197, 898, 2959, 7361, 904, 3451, 1252]\n",
            "10 [1272, 1291, 105504, 1278, 1249, 3114, 3451, 5816, 2761, 1952]\n"
          ],
          "name": "stdout"
        }
      ]
    },
    {
      "cell_type": "code",
      "metadata": {
        "id": "fHKXNdfqZPCD",
        "colab_type": "code",
        "colab": {}
      },
      "source": [
        ""
      ],
      "execution_count": 0,
      "outputs": []
    }
  ]
}